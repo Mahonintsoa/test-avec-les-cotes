{
 "cells": [
  {
   "cell_type": "markdown",
   "id": "eight-research",
   "metadata": {},
   "source": [
    "# **Les tests . . . Bien plus simple avec les cotes**"
   ]
  },
  {
   "cell_type": "markdown",
   "id": "prescription-shopping",
   "metadata": {},
   "source": [
    "## Introduction"
   ]
  },
  {
   "cell_type": "markdown",
   "id": "pressing-reference",
   "metadata": {},
   "source": [
    "Il est 9h du matin quand une patiente arrive à l'hopitale pour un simple bilan de routine. Ne présentant aucune symptome d'une quelconque maladie, le medecine effectue quelques tests de routine. Parmis ces tests, le medecin effectue une mammographie de la patiente pour dépister  le cancer du sein. Après examen, le résultat s'avère alors positif. La patiente demande alors au medecin si elle doit d'inquiéter. Elle demande donc au médecin quel sont les chances qu'elle ait vraiment la maladie."
   ]
  },
  {
   "cell_type": "markdown",
   "id": "popular-lyric",
   "metadata": {},
   "source": [
    "Pour réponder à ces questions, rapellons d'abord quelques notions utiles qui sont fréquement utilisées dans le domaine du test de diagnostique. La connaissance et la maîtrise de ces notions sont importantes pour juger la validité et de la pertinence d'un test diagnostique."
   ]
  },
  {
   "cell_type": "markdown",
   "id": "literary-scientist",
   "metadata": {},
   "source": [
    "1. **Tableau de contingence**"
   ]
  },
  {
   "cell_type": "markdown",
   "id": "offshore-grammar",
   "metadata": {},
   "source": [
    "Un tableau de contingence est unde méthode de représentation de données issues d'un comptage. Cet tableau nous permettra  ainsi de comparer simultanément le résultat obten à un examen au résultat d'un examen de référence."
   ]
  },
  {
   "cell_type": "markdown",
   "id": "appropriate-october",
   "metadata": {},
   "source": [
    "Pour illustrer cette procédure, nous utiliserons la situation la plus simple, nous utiliserons la situation la plus simple, celle où\n",
    "l’examen diagnostique et l’examen de référence sont appliqués à tous les sujets"
   ]
  },
  {
   "cell_type": "markdown",
   "id": "numerical-richmond",
   "metadata": {},
   "source": [
    "Elle se présentera ainsi:"
   ]
  },
  {
   "cell_type": "markdown",
   "id": "after-tablet",
   "metadata": {},
   "source": [
    "|         | M+      | M-      | Total   |\n",
    "|---------|---------|---------|---------|\n",
    "| E+      | VP      | FP      |VP+FP    |\n",
    "| E-      | FN      | VN      |FN+VN    |\n",
    "| Total   | VP + FN | FP + VN |         |"
   ]
  },
  {
   "cell_type": "markdown",
   "id": "dressed-exposure",
   "metadata": {},
   "source": [
    "Ici, M désigne le fait d'être malade et E désigne le résultat de l'examen. P et N désigne le positivité ou la négativité du résultat. Par conséquent, VP = vrai positif, VN = vrai négatif."
   ]
  },
  {
   "cell_type": "code",
   "execution_count": null,
   "id": "diverse-killing",
   "metadata": {},
   "outputs": [],
   "source": []
  }
 ],
 "metadata": {
  "kernelspec": {
   "display_name": "Python 3",
   "language": "python",
   "name": "python3"
  },
  "language_info": {
   "codemirror_mode": {
    "name": "ipython",
    "version": 3
   },
   "file_extension": ".py",
   "mimetype": "text/x-python",
   "name": "python",
   "nbconvert_exporter": "python",
   "pygments_lexer": "ipython3",
   "version": "3.8.5"
  }
 },
 "nbformat": 4,
 "nbformat_minor": 5
}

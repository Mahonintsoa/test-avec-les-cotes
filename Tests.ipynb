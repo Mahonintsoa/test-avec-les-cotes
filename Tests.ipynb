{
 "cells": [
  {
   "cell_type": "markdown",
   "id": "cordless-infrared",
   "metadata": {},
   "source": [
    "# **Les tests . . . Bien plus simple avec les cotes**"
   ]
  },
  {
   "cell_type": "markdown",
   "id": "technological-threshold",
   "metadata": {},
   "source": [
    "## Introduction"
   ]
  },
  {
   "cell_type": "markdown",
   "id": "sought-tooth",
   "metadata": {},
   "source": [
    "Il est 9h du matin quand une patiente arrive à l'hopitale pour un simple bilan de routine. Ne présentant aucune symptome d'une quelconque maladie, le medecine effectue quelques tests de routine. Parmis ces tests, le medecin effectue une mammographie de la patiente pour dépister  le cancer du sein. Après examen, le résultat s'avère alors positif. La patiente demande alors au medecin si elle doit d'inquiéter. Elle demande donc au médecin quel sont les chances qu'elle ait vraiment la maladie."
   ]
  },
  {
   "cell_type": "markdown",
   "id": "focused-brunei",
   "metadata": {},
   "source": [
    "Pour réponder à ces questions, rapellons d'abord quelques notions utiles qui sont fréquement utilisées dans le domaine du test de diagnostique. La connaissance et la maîtrise de ces notions sont importantes pour juger la validité et de la pertinence d'un test diagnostique."
   ]
  },
  {
   "cell_type": "markdown",
   "id": "pregnant-dollar",
   "metadata": {},
   "source": [
    "1. **Tableau de contingence**"
   ]
  },
  {
   "cell_type": "markdown",
   "id": "dominant-africa",
   "metadata": {},
   "source": [
    "Un tableau de contingence est unde méthode de représentation de données issues d'un comptage. Cet tableau nous permettra  ainsi de comparer simultanément le résultat obten à un examen au résultat d'un examen de référence."
   ]
  },
  {
   "cell_type": "markdown",
   "id": "opened-kidney",
   "metadata": {},
   "source": [
    "Pour illustrer cette procédure, nous utiliserons la situation la plus simple, nous utiliserons la situation la plus simple, celle où\n",
    "l’examen diagnostique et l’examen de référence sont appliqués à tous les sujets"
   ]
  },
  {
   "cell_type": "markdown",
   "id": "systematic-engineering",
   "metadata": {},
   "source": [
    "Elle se présentera ainsi:"
   ]
  },
  {
   "cell_type": "markdown",
   "id": "square-velvet",
   "metadata": {},
   "source": [
    "|         | M+      | M-      | Total   |\n",
    "|---------|---------|---------|---------|\n",
    "| E+      | VP      | FP      |VP+FP    |\n",
    "| E-      | FN      | VN      |FN+VN    |\n",
    "| Total   | VP + FN | FP + VN |         |"
   ]
  },
  {
   "cell_type": "markdown",
   "id": "leading-horse",
   "metadata": {},
   "source": [
    "Ici, M désigne le fait d'être malade et E désigne le résultat de l'examen. P et N désigne le positivité ou la négativité du résultat. Par conséquent, VP = vrai positif, VN = vrai négatif."
   ]
  },
  {
   "cell_type": "markdown",
   "id": "incident-worthy",
   "metadata": {},
   "source": [
    "Disposant de cette tableau, le docteur se demande quand même dans quelle mesure les renseignements qu'on obtiendra à partir de l'imagerie permettra de poser un diagnostic juste."
   ]
  },
  {
   "cell_type": "markdown",
   "id": "enhanced-scope",
   "metadata": {},
   "source": [
    "On distingue deux niveaux de validité: la validité interne (mesure dans la population éudiée) et validité externe (capacité de généraliser les résultats à d'autres populations). "
   ]
  },
  {
   "cell_type": "markdown",
   "id": "spare-headline",
   "metadata": {},
   "source": [
    "2. **La sensibilité et la spécificité**"
   ]
  },
  {
   "cell_type": "markdown",
   "id": "educated-possession",
   "metadata": {},
   "source": [
    "La sensibilité mesure la capacité d'un test à repérer adéquatement les sujets réellement malades alors que la spécificité mesure la capacité d'un test à reconnaître les sujets qui, en réalité, ne sont pas malades. "
   ]
  },
  {
   "cell_type": "markdown",
   "id": "behind-blackberry",
   "metadata": {},
   "source": [
    "Pour bien interpréter la significaton d'un examen dont le résultat est négatif ou positif, il est nécessaire d'apprendre d'avantage sur la valer de ces paramètre."
   ]
  },
  {
   "cell_type": "markdown",
   "id": "strange-sphere",
   "metadata": {},
   "source": [
    "**a. Calcul de la sensibilité et de la spécificité**"
   ]
  },
  {
   "cell_type": "markdown",
   "id": "dimensional-membership",
   "metadata": {},
   "source": [
    "- La sensibilité (SE) d'un test correspond à la probalité que celui-ci produise un résultat positif chez le sujet malade. On le notera SE ou $P(+\\mid malade)$"
   ]
  },
  {
   "cell_type": "markdown",
   "id": "liked-access",
   "metadata": {},
   "source": [
    "A partir d'un tableau de contigence, elle se défine ainsi:"
   ]
  },
  {
   "cell_type": "markdown",
   "id": "selective-software",
   "metadata": {},
   "source": [
    "$SE = \\frac{VP}{VP +FN}$"
   ]
  },
  {
   "cell_type": "markdown",
   "id": "yellow-devon",
   "metadata": {},
   "source": [
    "- La spécificité (SP) d'un test correspond à la probabilité que celui-ci produise un résultat négatif chez le sujet no malade. On la notera $P(- \\mid pas \\space malade)$"
   ]
  },
  {
   "cell_type": "markdown",
   "id": "brazilian-swiss",
   "metadata": {},
   "source": [
    "A partir du tableau de contingence, elle se note:\n"
   ]
  },
  {
   "cell_type": "markdown",
   "id": "specific-delhi",
   "metadata": {},
   "source": [
    "$SP = \\frac{VN}{VN + FP}$"
   ]
  },
  {
   "cell_type": "markdown",
   "id": "gorgeous-chassis",
   "metadata": {},
   "source": [
    "Supposant qu'on a le tableau d'un contingence suivante à la suite de l'examen de 1000 femmes pour détecter le cancer de sein. "
   ]
  },
  {
   "cell_type": "markdown",
   "id": "thirty-benchmark",
   "metadata": {},
   "source": [
    "|         | M+      | M-      | Total   |\n",
    "|---------|---------|---------|---------|\n",
    "| E+      | 9       | 89      |98       |\n",
    "| E-      | 1       | 901     |902      |\n",
    "| Total   | 10      | 999     |         |"
   ]
  },
  {
   "cell_type": "markdown",
   "id": "sudden-announcement",
   "metadata": {},
   "source": [
    "La sensibilité est alors:"
   ]
  },
  {
   "cell_type": "markdown",
   "id": "applied-buffer",
   "metadata": {},
   "source": [
    "$SE = \\frac{VP}{VP + FN} = \\frac{9}{9+1}= \\frac{9}{10}$"
   ]
  },
  {
   "cell_type": "markdown",
   "id": "incorporate-enclosure",
   "metadata": {},
   "source": [
    "La spécificité est alor:"
   ]
  },
  {
   "cell_type": "markdown",
   "id": "three-friend",
   "metadata": {},
   "source": [
    "$SP = \\frac{VN}{VN + FP}= \\frac{901}{901 + 89} = \\frac{901}{990}$"
   ]
  },
  {
   "cell_type": "markdown",
   "id": "fabulous-analysis",
   "metadata": {},
   "source": [
    "On peut voir que le test donne de bonne résultat, 90% de sensibilité et 91% de spécificité sont de bonne indication pour un test. A noter que dans la réalité on n'obtient pas ce genre de chiffre."
   ]
  },
  {
   "cell_type": "markdown",
   "id": "authentic-bride",
   "metadata": {},
   "source": [
    "Par ailleurs, on a aussi, à partir de la sensibilité et la spécificité, les proportion suivantes:\n",
    "- la proportion de faux négatifs est obtenue par: $1 - SE$\n",
    "- la proportion de faux positifs est obtenue par: $1 - SP$"
   ]
  },
  {
   "cell_type": "markdown",
   "id": "needed-belarus",
   "metadata": {},
   "source": [
    "### A partir de ces données peut alors répondre au question quel est la probabilité que la dame a le cancer du sein?"
   ]
  },
  {
   "cell_type": "code",
   "execution_count": null,
   "id": "bigger-editing",
   "metadata": {},
   "outputs": [],
   "source": []
  }
 ],
 "metadata": {
  "kernelspec": {
   "display_name": "Python 3",
   "language": "python",
   "name": "python3"
  },
  "language_info": {
   "codemirror_mode": {
    "name": "ipython",
    "version": 3
   },
   "file_extension": ".py",
   "mimetype": "text/x-python",
   "name": "python",
   "nbconvert_exporter": "python",
   "pygments_lexer": "ipython3",
   "version": "3.8.5"
  }
 },
 "nbformat": 4,
 "nbformat_minor": 5
}

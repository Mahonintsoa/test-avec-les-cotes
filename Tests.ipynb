{
 "cells": [
  {
   "cell_type": "markdown",
   "id": "frozen-foster",
   "metadata": {},
   "source": [
    "# **Les tests . . . Bien plus simple avec les cotes**"
   ]
  },
  {
   "cell_type": "markdown",
   "id": "higher-municipality",
   "metadata": {},
   "source": [
    "## Introduction"
   ]
  },
  {
   "cell_type": "markdown",
   "id": "simplified-thunder",
   "metadata": {},
   "source": [
    "Il est 9h du matin quand une patiente arrive à l'hopitale pour un simple bilan de routine. Ne présentant aucune symptome d'une quelconque maladie, le medecine effectue quelques tests de routine. Parmis ces tests, le medecin effectue une mammographie de la patiente pour dépister  le cancer du sein. Après examen, le résultat s'avère alors positif. La patiente demande alors au medecin si elle doit d'inquiéter. Elle demande donc au médecin quel sont les chances qu'elle ait vraiment la maladie."
   ]
  },
  {
   "cell_type": "markdown",
   "id": "touched-status",
   "metadata": {},
   "source": [
    "Pour réponder à ces questions, rapellons d'abord quelques notions utiles qui sont fréquement utilisées dans le domaine du test de diagnostique. La connaissance et la maîtrise de ces notions sont importantes pour juger la validité et de la pertinence d'un test diagnostique."
   ]
  },
  {
   "cell_type": "markdown",
   "id": "absent-instrument",
   "metadata": {},
   "source": [
    "1. **Tableau de contingence**"
   ]
  },
  {
   "cell_type": "markdown",
   "id": "authorized-occurrence",
   "metadata": {},
   "source": [
    "Un tableau de contingence est unde méthode de représentation de données issues d'un comptage. Cet tableau nous permettra  ainsi de comparer simultanément le résultat obten à un examen au résultat d'un examen de référence."
   ]
  },
  {
   "cell_type": "markdown",
   "id": "twelve-russian",
   "metadata": {},
   "source": [
    "Pour illustrer cette procédure, nous utiliserons la situation la plus simple, nous utiliserons la situation la plus simple, celle où\n",
    "l’examen diagnostique et l’examen de référence sont appliqués à tous les sujets"
   ]
  },
  {
   "cell_type": "markdown",
   "id": "handled-socket",
   "metadata": {},
   "source": [
    "Elle se présentera ainsi:"
   ]
  },
  {
   "cell_type": "markdown",
   "id": "impressed-cameroon",
   "metadata": {},
   "source": [
    "|         | M+      | M-      | Total   |\n",
    "|---------|---------|---------|---------|\n",
    "| E+      | VP      | FP      |VP+FP    |\n",
    "| E-      | FN      | VN      |FN+VN    |\n",
    "| Total   | VP + FN | FP + VN |         |"
   ]
  },
  {
   "cell_type": "markdown",
   "id": "consecutive-block",
   "metadata": {},
   "source": [
    "Ici, M désigne le fait d'être malade et E désigne le résultat de l'examen. P et N désigne le positivité ou la négativité du résultat. Par conséquent, VP = vrai positif, VN = vrai négatif."
   ]
  },
  {
   "cell_type": "markdown",
   "id": "incredible-houston",
   "metadata": {},
   "source": [
    "Disposant de cette tableau, le docteur se demande quand même dans quelle mesure les renseignements qu'on obtiendra à partir de l'imagerie permettra de poser un diagnostic juste."
   ]
  },
  {
   "cell_type": "markdown",
   "id": "collect-pearl",
   "metadata": {},
   "source": [
    "On distingue deux niveaux de validité: la validité interne (mesure dans la population éudiée) et validité externe (capacité de généraliser les résultats à d'autres populations). "
   ]
  },
  {
   "cell_type": "markdown",
   "id": "addressed-setup",
   "metadata": {},
   "source": [
    "2. **La sensibilité et la spécificité**"
   ]
  },
  {
   "cell_type": "markdown",
   "id": "quantitative-place",
   "metadata": {},
   "source": [
    "La sensibilité mesure la capacité d'un test à repérer adéquatement les sujets réellement malades alors que la spécificité mesure la capacité d'un test à reconnaître les sujets qui, en réalité, ne sont pas malades. "
   ]
  },
  {
   "cell_type": "markdown",
   "id": "thirty-sherman",
   "metadata": {},
   "source": [
    "Pour bien interpréter la significaton d'un examen dont le résultat est négatif ou positif, il est nécessaire d'apprendre d'avantage sur la valer de ces paramètre."
   ]
  },
  {
   "cell_type": "markdown",
   "id": "forward-omega",
   "metadata": {},
   "source": [
    "**a. Calcul de la sensibilité et de la spécificité**"
   ]
  },
  {
   "cell_type": "markdown",
   "id": "helpful-saturday",
   "metadata": {},
   "source": [
    "- La sensibilité (SE) d'un test correspond à la probalité que celui-ci produise un résultat positif chez le sujet malade. On le notera SE ou $P(+\\mid malade)$"
   ]
  },
  {
   "cell_type": "markdown",
   "id": "governing-defeat",
   "metadata": {},
   "source": [
    "A partir d'un tableau de contigence, elle se défine ainsi:"
   ]
  },
  {
   "cell_type": "markdown",
   "id": "infinite-creator",
   "metadata": {},
   "source": [
    "$SE = \\frac{VP}{VP +FN}$"
   ]
  },
  {
   "cell_type": "markdown",
   "id": "sacred-chester",
   "metadata": {},
   "source": [
    "- La spécificité (SP) d'un test correspond à la probabilité que celui-ci produise un résultat négatif chez le sujet no malade. On la notera $P(- \\mid pas \\space malade)$"
   ]
  },
  {
   "cell_type": "markdown",
   "id": "mature-daniel",
   "metadata": {},
   "source": [
    "A partir du tableau de contingence, elle se note:\n"
   ]
  },
  {
   "cell_type": "markdown",
   "id": "white-snapshot",
   "metadata": {},
   "source": [
    "$SP = \\frac{VN}{VN + FP}$"
   ]
  },
  {
   "cell_type": "markdown",
   "id": "meaningful-biography",
   "metadata": {},
   "source": [
    "Supposant qu'on a le tableau d'un contingence suivante à la suite de l'examen de 1000 femmes pour détecter le cancer de sein. "
   ]
  },
  {
   "cell_type": "markdown",
   "id": "heated-composite",
   "metadata": {},
   "source": [
    "|         | M+      | M-      | Total   |\n",
    "|---------|---------|---------|---------|\n",
    "| E+      | 9       | 89      |98       |\n",
    "| E-      | 1       | 901     |902      |\n",
    "| Total   | 10      | 999     |         |"
   ]
  },
  {
   "cell_type": "markdown",
   "id": "professional-morocco",
   "metadata": {},
   "source": [
    "La sensibilité est alors:"
   ]
  },
  {
   "cell_type": "markdown",
   "id": "invisible-fabric",
   "metadata": {},
   "source": [
    "$SE = \\frac{VP}{VP + FN} = \\frac{9}{9+1}= \\frac{9}{10}$"
   ]
  },
  {
   "cell_type": "markdown",
   "id": "electric-illinois",
   "metadata": {},
   "source": [
    "La spécificité est alor:"
   ]
  },
  {
   "cell_type": "markdown",
   "id": "derived-gregory",
   "metadata": {},
   "source": [
    "$SP = \\frac{VN}{VN + FP}= \\frac{901}{901 + 89} = \\frac{901}{990}$"
   ]
  },
  {
   "cell_type": "markdown",
   "id": "average-beatles",
   "metadata": {},
   "source": [
    "On peut voir que le test donne de bonne résultat, 90% de sensibilité et 91% de spécificité sont de bonne indication pour un test. A noter que dans la réalité on n'obtient pas ce genre de chiffre."
   ]
  },
  {
   "cell_type": "markdown",
   "id": "terminal-mileage",
   "metadata": {},
   "source": [
    "Par ailleurs, on a aussi, à partir de la sensibilité et la spécificité, les proportion suivantes:\n",
    "- la proportion de faux négatifs est obtenue par: $1 - SE$\n",
    "- la proportion de faux positifs est obtenue par: $1 - SP$"
   ]
  },
  {
   "cell_type": "markdown",
   "id": "remarkable-safety",
   "metadata": {},
   "source": [
    "### A partir de ces données peut alors répondre au question quel est la probabilité que la dame a le cancer du sein? presque..."
   ]
  },
  {
   "cell_type": "markdown",
   "id": "hindu-registrar",
   "metadata": {},
   "source": [
    "A partir de ces valeurs, la probabilité que la patiente ait le cancer sachant que le test est positif est $\\frac{1}{11}$ soit de 9%. Pourqoi alors malgrès le test de bonne précision, la chance que la patiente ait le cancer est assez bas."
   ]
  },
  {
   "cell_type": "markdown",
   "id": "reflected-basics",
   "metadata": {},
   "source": [
    "Cette paradoxe est assez connue en medecine, la cause est tout simplement que la précision du test n'implique pas la prédictivité.\n",
    "C’est à partir de la collecte d’informations par\n",
    "questionnaire et examen physique que le clinicien estime la probabilité que ce patient\n",
    "soit sain ou malade. Cette probabilité, établie avant toute demande d’examen dia-\n",
    "gnostique, correspond à la prévalence de la maladie dans une population donnée.\n",
    "Le clinicien appuie donc son évaluation du risque que présente son patient tant sur\n",
    "les données tirées de la littérature que sur son expérience clinique. Cette probabilité\n",
    "pourra par exemple être faible, modérée ou forte, soit de 5 %, de 30 % ou de 90 %."
   ]
  },
  {
   "cell_type": "markdown",
   "id": "grateful-simulation",
   "metadata": {},
   "source": [
    "En clinique, on recourt aux examens diagnostiques pour obtenir des renseignements\n",
    "supplémentaires permettant de réviser l’estimation de la probabilité qu’un patient soit\n",
    "atteint ou non de la maladie. On obtient ce gain d’information à partir du calcul des\n",
    "valeurs prédictives."
   ]
  },
  {
   "cell_type": "markdown",
   "id": "improved-wright",
   "metadata": {},
   "source": [
    "3. **Les valeurs prédictives positives et négatives**"
   ]
  },
  {
   "cell_type": "markdown",
   "id": "skilled-click",
   "metadata": {},
   "source": [
    "- Une valeur prédictive positive (VPP) indique la probabilité que l’individu soit réellement malade lorsque le résultat d’un examen s’avère positif.\n",
    "$VPP = \\frac{VP}{VP + FP}$\n",
    "- et, la valeur prédictive négative (VPN) est la probabilité que le patient soit réellement sain sachant que le résultat est négatif\n",
    "$VPN = \\frac{VN}{VN + FN}$"
   ]
  },
  {
   "cell_type": "markdown",
   "id": "expensive-reaction",
   "metadata": {},
   "source": [
    "Ici, on a alors $VPP = \\frac{1}{11}$"
   ]
  },
  {
   "cell_type": "markdown",
   "id": "demonstrated-empty",
   "metadata": {},
   "source": [
    "En 2006, le psychologue Gerd Gigerenzer donna une sémianire sur le statistique. Il  demanda à l'audience : \"une femme de 50 ans, sans symptomes participe à un routine de mammographie. Le résultat étant positif il demanda alors à l'audience quel est la chance qu'elle soit vraiment atteint de a cancer du sein . A part la mammographie vous ne disposez aucune autre information\""
   ]
  },
  {
   "cell_type": "markdown",
   "id": "adolescent-species",
   "metadata": {},
   "source": [
    "Sachant que la prévalence est de 1%, la sensibilité du test 90% et la spécificité 91% (comme dans notre exemple). Contrairement à nous l'audience ne dispose pas du nombre de participant au test mais suelement ces trois valeurs."
   ]
  },
  {
   "cell_type": "markdown",
   "id": "cultural-relationship",
   "metadata": {},
   "source": [
    "Il demanda alors à l'audience de faire un choix entre les résultats suivant:\n",
    "- 9 sur 10\n",
    "- 8 sur 10\n",
    "- 1 sur 10\n",
    "- 1 sur 100"
   ]
  },
  {
   "cell_type": "markdown",
   "id": "centered-security",
   "metadata": {},
   "source": [
    "La moité choisisse alors 9 sur 10. L'audience alors étonné se demande alors pourquoi une test aussi précis donne une valeur prédictive assez faible."
   ]
  },
  {
   "cell_type": "markdown",
   "id": "normal-johns",
   "metadata": {},
   "source": [
    "La réponse est tout simplement qu'il faut comprendre que les tests ne détermine pas si vous avez la maladie ou pas, les tests ne determinent pas les chances d'avoir la maladie, les tests mettent à jours tout simplement notre chance d'avoir la maladie.\n"
   ]
  },
  {
   "cell_type": "markdown",
   "id": "utility-burner",
   "metadata": {},
   "source": [
    "On arrive  alors à notre but. Disposant alors des trois valeurs(prévalence, sensibilité, spécificité) comment peut on alors rapidement calculer la chance d'avoir la maladie sachant que le test est positif."
   ]
  },
  {
   "cell_type": "markdown",
   "id": "electrical-announcement",
   "metadata": {},
   "source": [
    "voici tout simplement la formule: **$croyance \\space à \\space postériori  = croyance \\space à \\space priori * la \\space facteur  \\space de \\space Bayes$**"
   ]
  },
  {
   "cell_type": "markdown",
   "id": "blocked-monster",
   "metadata": {},
   "source": [
    "4- **Coryance à priori**"
   ]
  },
  {
   "cell_type": "markdown",
   "id": "nearby-parade",
   "metadata": {},
   "source": [
    "La croyance à priori est l'ensemble d'information que nous disposant avant tout expériences et examens. Ici, la croyance à priori est la **prévalence**. En effet, la prévalence d'une maladie est la proportion des personnes affectées par cette malaldie à un moment donné dans la population."
   ]
  },
  {
   "cell_type": "markdown",
   "id": "ultimate-senator",
   "metadata": {},
   "source": [
    "5- **Facteur de bayes**"
   ]
  },
  {
   "cell_type": "markdown",
   "id": "numeric-messaging",
   "metadata": {},
   "source": [
    "Ici le facteur de Bayes s'obient par la formule:\n",
    "$\\frac{P(E+ \\mid cancer)}{P(E+ \\mid pas \\space cancer)}$"
   ]
  },
  {
   "cell_type": "markdown",
   "id": "directed-limit",
   "metadata": {},
   "source": [
    "$P(E+ | pas \\space cancer)$ désigne la proportion de faux positif. "
   ]
  },
  {
   "cell_type": "markdown",
   "id": "dated-hello",
   "metadata": {},
   "source": [
    "Dans notre example, le facteur de Bayes est alors: 90% sur 9% qui est donc 10. Et puisque la prévalence est de 1%. On a ainsi la probabilité $\\frac{1}{10}$ "
   ]
  },
  {
   "cell_type": "markdown",
   "id": "automated-arbitration",
   "metadata": {},
   "source": [
    "**NB: Par ailleurs, ceci ne marche pas si la prévalence est forte.** "
   ]
  },
  {
   "cell_type": "markdown",
   "id": "accredited-think",
   "metadata": {},
   "source": [
    "Par exemple, si la prévalence est de 10% alors le résultat est de 100% qui est d'ailleurs faux. Les cotes viennent alors à notre aide."
   ]
  },
  {
   "cell_type": "markdown",
   "id": "mighty-sugar",
   "metadata": {},
   "source": [
    "### 6- **Les Cotes**"
   ]
  },
  {
   "cell_type": "markdown",
   "id": "opponent-notion",
   "metadata": {},
   "source": [
    "Le cote d'un évènement est le ration entre la probabilité que l'évènement se produise et la probabilité qu'il ne se produise pas. On l'exprime comme une paire de nombres. Par exemple, soit 1/5 la probabilité qu'un évènement se produise, suivant la loi des probabilités, la probabilité que l'vènement ne srviennent pas est 1 - 1/5 qui est égale à 4/5. Ainsi, la cote est alors 1:4"
   ]
  },
  {
   "cell_type": "markdown",
   "id": "dutch-workplace",
   "metadata": {},
   "source": [
    "Exemple: 50% => 1:1, 80% => 4:1, et ainsi de suite"
   ]
  },
  {
   "cell_type": "markdown",
   "id": "tropical-identity",
   "metadata": {},
   "source": [
    "Contrairement au probabilité qui est comprise entre 0 et 1, les cotes ne sont pas restreints. L'avantage ici est que même pour une à priori assez forte, on a quand même une bonne résultat."
   ]
  },
  {
   "cell_type": "markdown",
   "id": "proof-navigation",
   "metadata": {},
   "source": [
    "Par exemple, si la prévalence est de 10%, en terme de cote on peut ecrire 1:9. Et en reprenant nos données précédent, avec 10 comme facteur de Bayes, on a ainsi $1:9 * 10 = 10:9$ qui est presque égale à 53%"
   ]
  },
  {
   "cell_type": "markdown",
   "id": "round-facial",
   "metadata": {},
   "source": [
    "Notre règle se résume alors comme suit:\n",
    "- Exprimer les à priori en cote\n",
    "- Calculer le facteurs de Bayes \n",
    "- Multiplier"
   ]
  },
  {
   "cell_type": "code",
   "execution_count": null,
   "id": "consolidated-application",
   "metadata": {},
   "outputs": [],
   "source": []
  }
 ],
 "metadata": {
  "kernelspec": {
   "display_name": "Python 3",
   "language": "python",
   "name": "python3"
  },
  "language_info": {
   "codemirror_mode": {
    "name": "ipython",
    "version": 3
   },
   "file_extension": ".py",
   "mimetype": "text/x-python",
   "name": "python",
   "nbconvert_exporter": "python",
   "pygments_lexer": "ipython3",
   "version": "3.8.5"
  }
 },
 "nbformat": 4,
 "nbformat_minor": 5
}
